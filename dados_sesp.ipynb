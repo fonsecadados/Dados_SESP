{
 "cells": [
  {
   "cell_type": "code",
   "execution_count": 7,
   "metadata": {},
   "outputs": [],
   "source": [
    "import pandas as pd\n",
    "import numpy as np"
   ]
  },
  {
   "cell_type": "markdown",
   "metadata": {},
   "source": [
    "Documentação"
   ]
  },
  {
   "cell_type": "markdown",
   "metadata": {},
   "source": [
    "Coluna: GRUPO DE INCIDENTE : CCP = Crimes Contra Patrimônio | CD = Crimes Diversos"
   ]
  },
  {
   "cell_type": "markdown",
   "metadata": {},
   "source": [
    "Importação dos banco de dados"
   ]
  },
  {
   "cell_type": "code",
   "execution_count": 62,
   "metadata": {},
   "outputs": [
    {
     "name": "stdout",
     "output_type": "stream",
     "text": [
      "---DOCUMENTAÇÃO---\n",
      "ocorrencias = Dados sobre as Ocorrências\n",
      "homicidios = Dados sobre os Homicídios\n",
      "objetos = Dados sobre Objeto Furtados/roubados\n"
     ]
    }
   ],
   "source": [
    "df_ocorrencias = pd.read_csv('ocorrencias_2023.csv', encoding='latin1', sep=';')\n",
    "df_homicidios = pd.read_csv('homicidios_2023.csv', encoding='latin1', sep=';')\n",
    "df_objetos = pd.read_csv('objetos_2023.csv', encoding='latin1', sep=';')\n",
    "\n",
    "#Função para Limpar e Padronizar o Banco de Dados\n",
    "def abrir_dados():\n",
    "    global dados\n",
    "    dados = [df_ocorrencias, df_objetos, df_homicidios]\n",
    "\n",
    "    def ajustes(df):\n",
    "        \n",
    "        if df is df_ocorrencias:\n",
    "            #Renomear\n",
    "            df.rename(columns={'Nº OCORReNCIA':'OCORRENCIA',\n",
    "                                'DATA DO FATO':'DATA',\n",
    "                                'HORA DO FATO': 'HORA',\n",
    "                                'MUNICiPIO': 'MUNICIPIO',\n",
    "                                'GRUPO DE INCIDENTE': 'GRUPO DE CRIMES'}, inplace=True)\n",
    "\n",
    "                #Tipos\n",
    "            df['DATA'] = pd.to_datetime(df['DATA'], format='%d/%m/%Y').dt.strftime('%d/%m/%Y')\n",
    "            df['HORA'] = df['HORA'].replace('Indeterminada', np.nan)\n",
    "            \n",
    "            #Excluir colunas\n",
    "            df.drop(columns='UF', inplace=True)\n",
    "\n",
    "            #Padronização dos Valores\n",
    "            df['GRUPO DE CRIMES'] = df['GRUPO DE CRIMES'].replace({\n",
    "                    'CRIMES CONTRA PATRIMoNIO' : 'Contra Patrimônio',\n",
    "                    'CRIMES DIVERSOS' : 'Diversos'\n",
    "                })\n",
    "            df['TIPO DE INCIDENTE'] = df['TIPO DE INCIDENTE'].replace({\n",
    "                    'CRIMES CONTRA PATRIMoNIO: ESTELIONATO/FRAUDE' : 'Estelionato/Fraude',\n",
    "                    'CRIMES CONTRA PATRIMoNIO: ROUBO: A PESSOA EM VIA PuBLICA' : 'Roubo: Pessoa em Via Pública',\n",
    "                    'CRIMES CONTRA PATRIMoNIO: FURTO: EM RESIDeNCIA/CONDOMiNIO' : 'Furto: Residência/Condomínio',\n",
    "                    'CRIMES CONTRA PATRIMoNIO: FURTO: EM ESTABELECIMENTO COMERCIAL' : 'Furto: Estabelecimento Comercial',\n",
    "                    'CRIMES CONTRA PATRIMoNIO: FURTO: A PESSOA EM VIA PuBLICA' : 'Furto: Pessoa em Via Pública',\n",
    "                    'CRIMES DIVERSOS: CRIMES INFORMATICOS' : 'Crimes Informáticos',\n",
    "                    'CRIMES CONTRA PATRIMoNIO: ROUBO: EM TRANSPORTE COLETIVO' : 'Roubo: Transporte Coletivo',\n",
    "                    'CRIMES CONTRA PATRIMoNIO: FURTO: EM TRANSPORTE COLETIVO' : 'Furto: Transporte Coletivo',\n",
    "                    'CRIMES CONTRA PATRIMoNIO: ROUBO: EM ESTABELECIMENTO COMERCIAL' : 'Roubo: Estabelecimento Comercial',\n",
    "                    'CRIMES CONTRA PATRIMoNIO: ROUBO: EM RESIDeNCIA/CONDOMiNIO' : 'Roubo: Residência/Condomínio'\n",
    "\n",
    "            })\n",
    "            df['TIPO DE LOCAL'] = df['TIPO DE LOCAL'].str.title()\n",
    "            df['BAIRRO'] = df['BAIRRO'].str.title()\n",
    "            df['MUNICIPIO'] = df['MUNICIPIO'].str.title()\n",
    "            df['LOGRADOURO'] = df['LOGRADOURO'].str.title()\n",
    "\n",
    "        elif df is df_homicidios:\n",
    "            #Renomear\n",
    "            df.rename(columns={'Nº OCORRENCIA':'OCORRENCIA',\n",
    "                                'DATA DO FATO':'DATA',\n",
    "                                'HORA DO FATO': 'HORA',}, inplace=True)\n",
    "            \n",
    "            df['TIPO DE INCIDENTE'] = df['TIPO DE INCIDENTE'].replace({\n",
    "                'CRIMES CONTRA A PESSOA: HOMICIDIO DOLOSO' : 'Homicídio Doloso'\n",
    "            })\n",
    "            df['BAIRRO'] = df['BAIRRO'].str.title()\n",
    "            df['MUNICIPIO'] = df['MUNICIPIO'].str.title()\n",
    "            df['TIPO LOCAL'] = df['TIPO LOCAL'].str.title()\n",
    "\n",
    "            #Excluir colunas\n",
    "            df.drop(columns='UF', inplace=True)\n",
    "            df.drop(columns='GRUPO DE INCIDENTE', inplace=True)\n",
    "\n",
    "            #Tipos\n",
    "            df['DATA'] = pd.to_datetime(df['DATA'], format='%d/%m/%Y').dt.strftime('%d/%m/%Y')\n",
    "            df['HORA'] = df['HORA'].replace('Indeterminada', np.nan)\n",
    "\n",
    "\n",
    "        elif df is df_objetos:\n",
    "            #Renomear\n",
    "            df.rename(columns={'Nº OCORRENCIA':'OCORRENCIA',\n",
    "                                'DATA DO FATO':'DATA',\n",
    "                                'HORA DO FATO': 'HORA',}, inplace=True)\n",
    "            \n",
    "            df['OBJETO'] = df['OBJETO'].replace({\n",
    "                'APARELHOS TELEFONICOS' : 'Aparelhos Telefônicos',\n",
    "                'VEICULO' : 'Veículo',\n",
    "                'BICICLETA' : 'Bicicleta'\n",
    "            })\n",
    "            df.rename(columns={'AÇAO ': 'AÇAO'}, inplace=True)\n",
    "            df['AÇAO'] = df['AÇAO'].str.title()\n",
    "            df['MUNICIPIO'] = df['MUNICIPIO'].str.title()\n",
    "            df['BAIRRO'] = df['BAIRRO'].str.title()\n",
    "            df['TIPO DE LOCAL'] = df['TIPO DE LOCAL'].str.title()\n",
    "            df['LOGRADOURO'] = df['LOGRADOURO'].str.title()\n",
    "            \n",
    "            #Tipos\n",
    "            df['DATA'] = pd.to_datetime(df['DATA'], format='%d/%m/%Y').dt.strftime('%d/%m/%Y')\n",
    "            df['HORA'] = df['HORA'].replace('Indeterminada', np.nan)\n",
    "\n",
    "            #Excluir colunas\n",
    "            df.drop(columns='UF', inplace=True)\n",
    "            \n",
    "        else:\n",
    "            pass\n",
    "\n",
    "\n",
    "    def document():\n",
    "        for df in dados:\n",
    "            ajustes(df)\n",
    "            global ocorrencias\n",
    "            global homicidios\n",
    "            global objetos\n",
    "            if df is df_ocorrencias:\n",
    "                ocorrencias = df_ocorrencias.copy()\n",
    "            elif df is df_homicidios:\n",
    "                homicidios = df_homicidios.copy()\n",
    "            elif df is df_objetos:\n",
    "                objetos = df_objetos.copy()\n",
    "            else:\n",
    "                ...\n",
    "    document()\n",
    "\n",
    "print('---DOCUMENTAÇÃO---')\n",
    "print('ocorrencias = Dados sobre as Ocorrências\\nhomicidios = Dados sobre os Homicídios\\nobjetos = Dados sobre Objeto Furtados/roubados')\n",
    "abrir_dados()\n"
   ]
  },
  {
   "cell_type": "markdown",
   "metadata": {},
   "source": [
    "---"
   ]
  },
  {
   "cell_type": "code",
   "execution_count": 64,
   "metadata": {},
   "outputs": [
    {
     "data": {
      "text/plain": [
       "TIPO DE INCIDENTE\n",
       "Estelionato/Fraude                  41048\n",
       "Roubo: Pessoa em Via Pública        15061\n",
       "Furto: Residência/Condomínio         5805\n",
       "Furto: Estabelecimento Comercial     4491\n",
       "Furto: Pessoa em Via Pública         3745\n",
       "Crimes Informáticos                  2892\n",
       "Roubo: Transporte Coletivo           2544\n",
       "Furto: Transporte Coletivo           1688\n",
       "Roubo: Estabelecimento Comercial      837\n",
       "Roubo: Residência/Condomínio          314\n",
       "Name: count, dtype: int64"
      ]
     },
     "execution_count": 64,
     "metadata": {},
     "output_type": "execute_result"
    }
   ],
   "source": [
    "ocorrencias['TIPO DE INCIDENTE'].value_counts()"
   ]
  },
  {
   "cell_type": "markdown",
   "metadata": {},
   "source": [
    "---"
   ]
  }
 ],
 "metadata": {
  "kernelspec": {
   "display_name": "Python 3",
   "language": "python",
   "name": "python3"
  },
  "language_info": {
   "codemirror_mode": {
    "name": "ipython",
    "version": 3
   },
   "file_extension": ".py",
   "mimetype": "text/x-python",
   "name": "python",
   "nbconvert_exporter": "python",
   "pygments_lexer": "ipython3",
   "version": "3.11.8"
  }
 },
 "nbformat": 4,
 "nbformat_minor": 2
}
